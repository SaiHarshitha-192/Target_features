{
  "nbformat": 4,
  "nbformat_minor": 0,
  "metadata": {
    "colab": {
      "provenance": [],
      "mount_file_id": "1krN2VuzR3jT5LAkjNfUiio7GvLusq8tG",
      "authorship_tag": "ABX9TyPeaADuQGGRfmzTxsVp5e8S",
      "include_colab_link": true
    },
    "kernelspec": {
      "name": "python3",
      "display_name": "Python 3"
    },
    "language_info": {
      "name": "python"
    }
  },
  "cells": [
    {
      "cell_type": "markdown",
      "metadata": {
        "id": "view-in-github",
        "colab_type": "text"
      },
      "source": [
        "<a href=\"https://colab.research.google.com/github/SaiHarshitha-192/Target_features/blob/main/Features_Target.ipynb\" target=\"_parent\"><img src=\"https://colab.research.google.com/assets/colab-badge.svg\" alt=\"Open In Colab\"/></a>"
      ]
    },
    {
      "cell_type": "code",
      "execution_count": null,
      "metadata": {
        "colab": {
          "base_uri": "https://localhost:8080/"
        },
        "id": "1EkiOO5cwexQ",
        "outputId": "f281e5e6-6417-44c9-b2a9-d06e7edf3726"
      },
      "outputs": [
        {
          "output_type": "stream",
          "name": "stdout",
          "text": [
            "Features Dataset\n",
            "   Age   Gender   Cptype   BloodPressure   Cholestrol  FastingBloodSugar  \\\n",
            "0   67        1        4             160          286                  0   \n",
            "1   67        1        4             120          229                  0   \n",
            "2   37        1        3             130          250                  0   \n",
            "3   41        0        2             130          204                  0   \n",
            "4   56        1        2             120          236                  0   \n",
            "\n",
            "   EcgResults   MaxHeartRate   Exang   STDepression   Slope   ca   Thal  \n",
            "0           2            108       1            1.5       2    3      3  \n",
            "1           2            129       1            2.6       2    2      7  \n",
            "2           0            187       0            3.5       3    0      3  \n",
            "3           2            172       0            1.4       1    0      3  \n",
            "4           0            178       0            0.8       1    0      3  \n",
            "Target Dataset\n",
            "    status\n",
            "0        2\n",
            "1        1\n",
            "2        0\n",
            "3        0\n",
            "4        0\n",
            "(296, 1)\n",
            "(296, 13)\n",
            "Feature Names of Features Dataset\n",
            "Index(['Age', ' Gender', ' Cptype', ' BloodPressure', ' Cholestrol',\n",
            "       'FastingBloodSugar', 'EcgResults', ' MaxHeartRate', ' Exang',\n",
            "       ' STDepression', ' Slope', ' ca', ' Thal'],\n",
            "      dtype='object')\n",
            "Features Names of Target Dataset\n",
            "Index([' status'], dtype='object')\n",
            "(60, 13)\n",
            "(60, 1)\n",
            "(236, 13)\n",
            "(236, 1)\n",
            "LogisticRegression()\n",
            "LogisticRegression()\n",
            "0.6166666666666667\n",
            "[2 0 0 0 0 3 2 0 1 0 0 1 1 0 0 3 1 1 0 1 3 0 0 0 3 0 0 0 3 0 1 3 3 0 0 1 0\n",
            " 1 2 3 0 0 1 1 2 1 0 0 0 0 0 0 0 0 0 0 0 0 1 3 3 0 0 0 0 0 0 0 3 3 0 0 1 2\n",
            " 0 0 0 1 0 0 2 2 0 1 0 0 0 0 2 0 1 0 0 0 0 0 0 0 0 3 0 0 0 0 1 0 1 0 3 0 0\n",
            " 0 0 0 0 0 0 0 0 0 0 2 2 0 0 1 1 0 1 1 1 1 1 1 1 0 0 0 0 0 0 3 2 3 0 0 0 1\n",
            " 3 0 0 0 0 3 0 0 0 1 0 0 3 0 0 0 0 0 0 1 0 1 1 3 3 0 0 1 0 2 0 1 1 0 1 0 0\n",
            " 0 0 3 0 0 1 0 0 1 0 3 0 0 1 0 3 0 0 0 0 0 3 0 0 0 0 0 1 0 1 0 0 1 0 3 0 3\n",
            " 0 0 0 0 0 1 0 0 0 0 0 1 0 3]\n"
          ]
        },
        {
          "output_type": "stream",
          "name": "stderr",
          "text": [
            "/usr/local/lib/python3.7/dist-packages/sklearn/linear_model/_logistic.py:818: ConvergenceWarning: lbfgs failed to converge (status=1):\n",
            "STOP: TOTAL NO. of ITERATIONS REACHED LIMIT.\n",
            "\n",
            "Increase the number of iterations (max_iter) or scale the data as shown in:\n",
            "    https://scikit-learn.org/stable/modules/preprocessing.html\n",
            "Please also refer to the documentation for alternative solver options:\n",
            "    https://scikit-learn.org/stable/modules/linear_model.html#logistic-regression\n",
            "  extra_warning_msg=_LOGISTIC_SOLVER_CONVERGENCE_MSG,\n",
            "/usr/local/lib/python3.7/dist-packages/sklearn/linear_model/_logistic.py:818: ConvergenceWarning: lbfgs failed to converge (status=1):\n",
            "STOP: TOTAL NO. of ITERATIONS REACHED LIMIT.\n",
            "\n",
            "Increase the number of iterations (max_iter) or scale the data as shown in:\n",
            "    https://scikit-learn.org/stable/modules/preprocessing.html\n",
            "Please also refer to the documentation for alternative solver options:\n",
            "    https://scikit-learn.org/stable/modules/linear_model.html#logistic-regression\n",
            "  extra_warning_msg=_LOGISTIC_SOLVER_CONVERGENCE_MSG,\n"
          ]
        }
      ],
      "source": [
        "#LOGISTIC REGRESSION: \n",
        "\n",
        "#Importing of Libraries \n",
        "import pandas as pd\n",
        "import matplotlib.pyplot as plt\n",
        "import seaborn as sns\n",
        "from sklearn import metrics\n",
        "import matplotlib.pyplot as plt\n",
        "from sklearn.feature_selection import RFE\n",
        "from sklearn.metrics import accuracy_score, confusion_matrix, classification_report\n",
        "\n",
        "#Loading Dataset\n",
        "features = pd.read_csv('/content/drive/MyDrive/features.csv')\n",
        "target = pd.read_csv('/content/drive/MyDrive/target.csv')\n",
        "\n",
        "#Finding of True facts of DataSet\n",
        "print('Features Dataset')\n",
        "print(features.head())\n",
        "print('Target Dataset')\n",
        "print(target.head())\n",
        "print(target.shape)\n",
        "print(features.shape)\n",
        "print('Feature Names of Features Dataset')\n",
        "print(features.keys())\n",
        "print('Features Names of Target Dataset')\n",
        "print(target.keys())\n",
        "\n",
        "#Spliting dataset into Training and Testing \n",
        "from sklearn.model_selection import train_test_split\n",
        "X_train, X_test, Y_train, Y_test = train_test_split(features,target,test_size=0.2, train_size=0.8, random_state=0)\n",
        "print(X_test.shape)\n",
        "print(Y_test.shape)\n",
        "print(X_train.shape)\n",
        "print(Y_train.shape)\n",
        "\n",
        "#Logistic regression\n",
        "\n",
        "from sklearn.linear_model import LogisticRegression\n",
        "log_reg = LogisticRegression()\n",
        "print(log_reg)\n",
        "\n",
        "log_reg.fit(X_train,Y_train.values.ravel())\n",
        "  \n",
        "#Train the model with given Training dataset\n",
        "\n",
        "print(log_reg.fit(X_train,Y_train.values.ravel()))\n",
        "    \n",
        "#Measure the SCore\n",
        "l=log_reg.score(X_test,Y_test)\n",
        "print(l)\n",
        "\n",
        "#Predicting of Testing Data\n",
        "l=log_reg.predict(X_train)\n",
        "print(l)"
      ]
    }
  ]
}